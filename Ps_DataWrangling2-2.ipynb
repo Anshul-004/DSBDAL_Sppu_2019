{
 "cells": [
  {
   "cell_type": "code",
   "execution_count": 1,
   "id": "d018a535-e9d2-4b66-8816-60673bcbf769",
   "metadata": {},
   "outputs": [],
   "source": [
    "import pandas as pd\n",
    "import numpy as np\n",
    "import matplotlib.pyplot as plt"
   ]
  },
  {
   "cell_type": "code",
   "execution_count": 2,
   "id": "d43e008d-0fc8-4c57-9a8c-b8f550fc0187",
   "metadata": {},
   "outputs": [],
   "source": [
    "df = pd.read_csv('Pr_CSV_Files/AcademicPerformance_New.csv')"
   ]
  },
  {
   "cell_type": "code",
   "execution_count": 3,
   "id": "fb774c86-7fb5-4bb0-b142-53a4341e1260",
   "metadata": {},
   "outputs": [
    {
     "data": {
      "text/html": [
       "<div>\n",
       "<style scoped>\n",
       "    .dataframe tbody tr th:only-of-type {\n",
       "        vertical-align: middle;\n",
       "    }\n",
       "\n",
       "    .dataframe tbody tr th {\n",
       "        vertical-align: top;\n",
       "    }\n",
       "\n",
       "    .dataframe thead th {\n",
       "        text-align: right;\n",
       "    }\n",
       "</style>\n",
       "<table border=\"1\" class=\"dataframe\">\n",
       "  <thead>\n",
       "    <tr style=\"text-align: right;\">\n",
       "      <th></th>\n",
       "      <th>Roll No</th>\n",
       "      <th>NationalITy</th>\n",
       "      <th>WT</th>\n",
       "      <th>DSBDA</th>\n",
       "      <th>AI</th>\n",
       "      <th>Average</th>\n",
       "      <th>Grade</th>\n",
       "      <th>PG</th>\n",
       "    </tr>\n",
       "  </thead>\n",
       "  <tbody>\n",
       "    <tr>\n",
       "      <th>0</th>\n",
       "      <td>1.0</td>\n",
       "      <td>India</td>\n",
       "      <td>72.0</td>\n",
       "      <td>72.0</td>\n",
       "      <td>74.0</td>\n",
       "      <td>72.666667</td>\n",
       "      <td>C</td>\n",
       "      <td>Yes</td>\n",
       "    </tr>\n",
       "    <tr>\n",
       "      <th>1</th>\n",
       "      <td>2.0</td>\n",
       "      <td>Japan</td>\n",
       "      <td>69.0</td>\n",
       "      <td>90.0</td>\n",
       "      <td>NaN</td>\n",
       "      <td>53.000000</td>\n",
       "      <td>B</td>\n",
       "      <td>No</td>\n",
       "    </tr>\n",
       "    <tr>\n",
       "      <th>2</th>\n",
       "      <td>NaN</td>\n",
       "      <td>NaN</td>\n",
       "      <td>NaN</td>\n",
       "      <td>NaN</td>\n",
       "      <td>NaN</td>\n",
       "      <td>NaN</td>\n",
       "      <td>NaN</td>\n",
       "      <td>NaN</td>\n",
       "    </tr>\n",
       "    <tr>\n",
       "      <th>3</th>\n",
       "      <td>4.0</td>\n",
       "      <td>China</td>\n",
       "      <td>47.0</td>\n",
       "      <td>NaN</td>\n",
       "      <td>44.0</td>\n",
       "      <td>30.333333</td>\n",
       "      <td>D</td>\n",
       "      <td>Yes</td>\n",
       "    </tr>\n",
       "    <tr>\n",
       "      <th>4</th>\n",
       "      <td>5.0</td>\n",
       "      <td>India</td>\n",
       "      <td>76.0</td>\n",
       "      <td>78.0</td>\n",
       "      <td>NaN</td>\n",
       "      <td>51.333333</td>\n",
       "      <td>C</td>\n",
       "      <td>No</td>\n",
       "    </tr>\n",
       "  </tbody>\n",
       "</table>\n",
       "</div>"
      ],
      "text/plain": [
       "   Roll No NationalITy    WT  DSBDA    AI    Average Grade   PG\n",
       "0      1.0       India  72.0   72.0  74.0  72.666667     C  Yes\n",
       "1      2.0       Japan  69.0   90.0   NaN  53.000000     B   No\n",
       "2      NaN         NaN   NaN    NaN   NaN        NaN   NaN  NaN\n",
       "3      4.0       China  47.0    NaN  44.0  30.333333     D  Yes\n",
       "4      5.0       India  76.0   78.0   NaN  51.333333     C   No"
      ]
     },
     "execution_count": 3,
     "metadata": {},
     "output_type": "execute_result"
    }
   ],
   "source": [
    "df.head()"
   ]
  },
  {
   "cell_type": "code",
   "execution_count": 4,
   "id": "1454fc6f-f44f-4147-a826-d01524463359",
   "metadata": {},
   "outputs": [
    {
     "data": {
      "text/html": [
       "<div>\n",
       "<style scoped>\n",
       "    .dataframe tbody tr th:only-of-type {\n",
       "        vertical-align: middle;\n",
       "    }\n",
       "\n",
       "    .dataframe tbody tr th {\n",
       "        vertical-align: top;\n",
       "    }\n",
       "\n",
       "    .dataframe thead th {\n",
       "        text-align: right;\n",
       "    }\n",
       "</style>\n",
       "<table border=\"1\" class=\"dataframe\">\n",
       "  <thead>\n",
       "    <tr style=\"text-align: right;\">\n",
       "      <th></th>\n",
       "      <th>Roll No</th>\n",
       "      <th>NationalITy</th>\n",
       "      <th>WT</th>\n",
       "      <th>DSBDA</th>\n",
       "      <th>AI</th>\n",
       "      <th>Average</th>\n",
       "      <th>Grade</th>\n",
       "      <th>PG</th>\n",
       "    </tr>\n",
       "  </thead>\n",
       "  <tbody>\n",
       "    <tr>\n",
       "      <th>94</th>\n",
       "      <td>95.0</td>\n",
       "      <td>USA</td>\n",
       "      <td>79.0</td>\n",
       "      <td>NaN</td>\n",
       "      <td>NaN</td>\n",
       "      <td>26.333333</td>\n",
       "      <td>A</td>\n",
       "      <td>No</td>\n",
       "    </tr>\n",
       "    <tr>\n",
       "      <th>95</th>\n",
       "      <td>96.0</td>\n",
       "      <td>Japan</td>\n",
       "      <td>78.0</td>\n",
       "      <td>81.0</td>\n",
       "      <td>82.0</td>\n",
       "      <td>80.333333</td>\n",
       "      <td>A</td>\n",
       "      <td>No</td>\n",
       "    </tr>\n",
       "    <tr>\n",
       "      <th>96</th>\n",
       "      <td>97.0</td>\n",
       "      <td>USA</td>\n",
       "      <td>65.0</td>\n",
       "      <td>66.0</td>\n",
       "      <td>62.0</td>\n",
       "      <td>64.333333</td>\n",
       "      <td>B</td>\n",
       "      <td>No</td>\n",
       "    </tr>\n",
       "    <tr>\n",
       "      <th>97</th>\n",
       "      <td>98.0</td>\n",
       "      <td>Rassia</td>\n",
       "      <td>63.0</td>\n",
       "      <td>72.0</td>\n",
       "      <td>70.0</td>\n",
       "      <td>68.333333</td>\n",
       "      <td>B</td>\n",
       "      <td>Yes</td>\n",
       "    </tr>\n",
       "    <tr>\n",
       "      <th>98</th>\n",
       "      <td>99.0</td>\n",
       "      <td>India</td>\n",
       "      <td>58.0</td>\n",
       "      <td>67.0</td>\n",
       "      <td>NaN</td>\n",
       "      <td>41.666667</td>\n",
       "      <td>B</td>\n",
       "      <td>No</td>\n",
       "    </tr>\n",
       "  </tbody>\n",
       "</table>\n",
       "</div>"
      ],
      "text/plain": [
       "    Roll No NationalITy    WT  DSBDA    AI    Average Grade   PG\n",
       "94     95.0         USA  79.0    NaN   NaN  26.333333     A   No\n",
       "95     96.0       Japan  78.0   81.0  82.0  80.333333     A   No\n",
       "96     97.0         USA  65.0   66.0  62.0  64.333333     B   No\n",
       "97     98.0      Rassia  63.0   72.0  70.0  68.333333     B  Yes\n",
       "98     99.0       India  58.0   67.0   NaN  41.666667     B   No"
      ]
     },
     "execution_count": 4,
     "metadata": {},
     "output_type": "execute_result"
    }
   ],
   "source": [
    "df.tail()"
   ]
  },
  {
   "cell_type": "code",
   "execution_count": 5,
   "id": "fe0ea534-eb4b-4403-be2d-e1242e7ce584",
   "metadata": {},
   "outputs": [
    {
     "data": {
      "text/html": [
       "<div>\n",
       "<style scoped>\n",
       "    .dataframe tbody tr th:only-of-type {\n",
       "        vertical-align: middle;\n",
       "    }\n",
       "\n",
       "    .dataframe tbody tr th {\n",
       "        vertical-align: top;\n",
       "    }\n",
       "\n",
       "    .dataframe thead th {\n",
       "        text-align: right;\n",
       "    }\n",
       "</style>\n",
       "<table border=\"1\" class=\"dataframe\">\n",
       "  <thead>\n",
       "    <tr style=\"text-align: right;\">\n",
       "      <th></th>\n",
       "      <th>Roll No</th>\n",
       "      <th>WT</th>\n",
       "      <th>DSBDA</th>\n",
       "      <th>AI</th>\n",
       "      <th>Average</th>\n",
       "    </tr>\n",
       "  </thead>\n",
       "  <tbody>\n",
       "    <tr>\n",
       "      <th>count</th>\n",
       "      <td>98.000000</td>\n",
       "      <td>91.000000</td>\n",
       "      <td>95.000000</td>\n",
       "      <td>89.000000</td>\n",
       "      <td>98.000000</td>\n",
       "    </tr>\n",
       "    <tr>\n",
       "      <th>mean</th>\n",
       "      <td>50.479592</td>\n",
       "      <td>61.164835</td>\n",
       "      <td>64.652632</td>\n",
       "      <td>62.235955</td>\n",
       "      <td>58.663265</td>\n",
       "    </tr>\n",
       "    <tr>\n",
       "      <th>std</th>\n",
       "      <td>28.469274</td>\n",
       "      <td>14.995009</td>\n",
       "      <td>14.893072</td>\n",
       "      <td>16.216590</td>\n",
       "      <td>16.518482</td>\n",
       "    </tr>\n",
       "    <tr>\n",
       "      <th>min</th>\n",
       "      <td>1.000000</td>\n",
       "      <td>18.000000</td>\n",
       "      <td>26.000000</td>\n",
       "      <td>20.000000</td>\n",
       "      <td>26.000000</td>\n",
       "    </tr>\n",
       "    <tr>\n",
       "      <th>25%</th>\n",
       "      <td>26.250000</td>\n",
       "      <td>51.000000</td>\n",
       "      <td>54.500000</td>\n",
       "      <td>52.000000</td>\n",
       "      <td>45.250000</td>\n",
       "    </tr>\n",
       "    <tr>\n",
       "      <th>50%</th>\n",
       "      <td>50.500000</td>\n",
       "      <td>63.000000</td>\n",
       "      <td>66.000000</td>\n",
       "      <td>63.000000</td>\n",
       "      <td>59.333333</td>\n",
       "    </tr>\n",
       "    <tr>\n",
       "      <th>75%</th>\n",
       "      <td>74.750000</td>\n",
       "      <td>71.000000</td>\n",
       "      <td>74.000000</td>\n",
       "      <td>74.000000</td>\n",
       "      <td>71.916667</td>\n",
       "    </tr>\n",
       "    <tr>\n",
       "      <th>max</th>\n",
       "      <td>99.000000</td>\n",
       "      <td>97.000000</td>\n",
       "      <td>95.000000</td>\n",
       "      <td>92.000000</td>\n",
       "      <td>91.666667</td>\n",
       "    </tr>\n",
       "  </tbody>\n",
       "</table>\n",
       "</div>"
      ],
      "text/plain": [
       "         Roll No         WT      DSBDA         AI    Average\n",
       "count  98.000000  91.000000  95.000000  89.000000  98.000000\n",
       "mean   50.479592  61.164835  64.652632  62.235955  58.663265\n",
       "std    28.469274  14.995009  14.893072  16.216590  16.518482\n",
       "min     1.000000  18.000000  26.000000  20.000000  26.000000\n",
       "25%    26.250000  51.000000  54.500000  52.000000  45.250000\n",
       "50%    50.500000  63.000000  66.000000  63.000000  59.333333\n",
       "75%    74.750000  71.000000  74.000000  74.000000  71.916667\n",
       "max    99.000000  97.000000  95.000000  92.000000  91.666667"
      ]
     },
     "execution_count": 5,
     "metadata": {},
     "output_type": "execute_result"
    }
   ],
   "source": [
    "df.describe()"
   ]
  },
  {
   "cell_type": "code",
   "execution_count": 6,
   "id": "889ad492-0ee1-4a3d-9696-5d636b4cf287",
   "metadata": {},
   "outputs": [
    {
     "name": "stdout",
     "output_type": "stream",
     "text": [
      "<class 'pandas.core.frame.DataFrame'>\n",
      "RangeIndex: 99 entries, 0 to 98\n",
      "Data columns (total 8 columns):\n",
      " #   Column       Non-Null Count  Dtype  \n",
      "---  ------       --------------  -----  \n",
      " 0   Roll No      98 non-null     float64\n",
      " 1   NationalITy  98 non-null     object \n",
      " 2   WT           91 non-null     float64\n",
      " 3   DSBDA        95 non-null     float64\n",
      " 4   AI           89 non-null     float64\n",
      " 5   Average      98 non-null     float64\n",
      " 6   Grade        98 non-null     object \n",
      " 7   PG           98 non-null     object \n",
      "dtypes: float64(5), object(3)\n",
      "memory usage: 6.3+ KB\n"
     ]
    }
   ],
   "source": [
    "df.info()"
   ]
  },
  {
   "cell_type": "code",
   "execution_count": 7,
   "id": "3a497f81-685e-429c-b1cc-65626535f0b1",
   "metadata": {},
   "outputs": [
    {
     "data": {
      "text/html": [
       "<div>\n",
       "<style scoped>\n",
       "    .dataframe tbody tr th:only-of-type {\n",
       "        vertical-align: middle;\n",
       "    }\n",
       "\n",
       "    .dataframe tbody tr th {\n",
       "        vertical-align: top;\n",
       "    }\n",
       "\n",
       "    .dataframe thead th {\n",
       "        text-align: right;\n",
       "    }\n",
       "</style>\n",
       "<table border=\"1\" class=\"dataframe\">\n",
       "  <thead>\n",
       "    <tr style=\"text-align: right;\">\n",
       "      <th></th>\n",
       "      <th>Roll No</th>\n",
       "      <th>NationalITy</th>\n",
       "      <th>WT</th>\n",
       "      <th>DSBDA</th>\n",
       "      <th>AI</th>\n",
       "      <th>Average</th>\n",
       "      <th>Grade</th>\n",
       "      <th>PG</th>\n",
       "    </tr>\n",
       "  </thead>\n",
       "  <tbody>\n",
       "    <tr>\n",
       "      <th>0</th>\n",
       "      <td>False</td>\n",
       "      <td>False</td>\n",
       "      <td>False</td>\n",
       "      <td>False</td>\n",
       "      <td>False</td>\n",
       "      <td>False</td>\n",
       "      <td>False</td>\n",
       "      <td>False</td>\n",
       "    </tr>\n",
       "    <tr>\n",
       "      <th>1</th>\n",
       "      <td>False</td>\n",
       "      <td>False</td>\n",
       "      <td>False</td>\n",
       "      <td>False</td>\n",
       "      <td>True</td>\n",
       "      <td>False</td>\n",
       "      <td>False</td>\n",
       "      <td>False</td>\n",
       "    </tr>\n",
       "    <tr>\n",
       "      <th>2</th>\n",
       "      <td>True</td>\n",
       "      <td>True</td>\n",
       "      <td>True</td>\n",
       "      <td>True</td>\n",
       "      <td>True</td>\n",
       "      <td>True</td>\n",
       "      <td>True</td>\n",
       "      <td>True</td>\n",
       "    </tr>\n",
       "    <tr>\n",
       "      <th>3</th>\n",
       "      <td>False</td>\n",
       "      <td>False</td>\n",
       "      <td>False</td>\n",
       "      <td>True</td>\n",
       "      <td>False</td>\n",
       "      <td>False</td>\n",
       "      <td>False</td>\n",
       "      <td>False</td>\n",
       "    </tr>\n",
       "    <tr>\n",
       "      <th>4</th>\n",
       "      <td>False</td>\n",
       "      <td>False</td>\n",
       "      <td>False</td>\n",
       "      <td>False</td>\n",
       "      <td>True</td>\n",
       "      <td>False</td>\n",
       "      <td>False</td>\n",
       "      <td>False</td>\n",
       "    </tr>\n",
       "    <tr>\n",
       "      <th>...</th>\n",
       "      <td>...</td>\n",
       "      <td>...</td>\n",
       "      <td>...</td>\n",
       "      <td>...</td>\n",
       "      <td>...</td>\n",
       "      <td>...</td>\n",
       "      <td>...</td>\n",
       "      <td>...</td>\n",
       "    </tr>\n",
       "    <tr>\n",
       "      <th>94</th>\n",
       "      <td>False</td>\n",
       "      <td>False</td>\n",
       "      <td>False</td>\n",
       "      <td>True</td>\n",
       "      <td>True</td>\n",
       "      <td>False</td>\n",
       "      <td>False</td>\n",
       "      <td>False</td>\n",
       "    </tr>\n",
       "    <tr>\n",
       "      <th>95</th>\n",
       "      <td>False</td>\n",
       "      <td>False</td>\n",
       "      <td>False</td>\n",
       "      <td>False</td>\n",
       "      <td>False</td>\n",
       "      <td>False</td>\n",
       "      <td>False</td>\n",
       "      <td>False</td>\n",
       "    </tr>\n",
       "    <tr>\n",
       "      <th>96</th>\n",
       "      <td>False</td>\n",
       "      <td>False</td>\n",
       "      <td>False</td>\n",
       "      <td>False</td>\n",
       "      <td>False</td>\n",
       "      <td>False</td>\n",
       "      <td>False</td>\n",
       "      <td>False</td>\n",
       "    </tr>\n",
       "    <tr>\n",
       "      <th>97</th>\n",
       "      <td>False</td>\n",
       "      <td>False</td>\n",
       "      <td>False</td>\n",
       "      <td>False</td>\n",
       "      <td>False</td>\n",
       "      <td>False</td>\n",
       "      <td>False</td>\n",
       "      <td>False</td>\n",
       "    </tr>\n",
       "    <tr>\n",
       "      <th>98</th>\n",
       "      <td>False</td>\n",
       "      <td>False</td>\n",
       "      <td>False</td>\n",
       "      <td>False</td>\n",
       "      <td>True</td>\n",
       "      <td>False</td>\n",
       "      <td>False</td>\n",
       "      <td>False</td>\n",
       "    </tr>\n",
       "  </tbody>\n",
       "</table>\n",
       "<p>99 rows × 8 columns</p>\n",
       "</div>"
      ],
      "text/plain": [
       "    Roll No  NationalITy     WT  DSBDA     AI  Average  Grade     PG\n",
       "0     False        False  False  False  False    False  False  False\n",
       "1     False        False  False  False   True    False  False  False\n",
       "2      True         True   True   True   True     True   True   True\n",
       "3     False        False  False   True  False    False  False  False\n",
       "4     False        False  False  False   True    False  False  False\n",
       "..      ...          ...    ...    ...    ...      ...    ...    ...\n",
       "94    False        False  False   True   True    False  False  False\n",
       "95    False        False  False  False  False    False  False  False\n",
       "96    False        False  False  False  False    False  False  False\n",
       "97    False        False  False  False  False    False  False  False\n",
       "98    False        False  False  False   True    False  False  False\n",
       "\n",
       "[99 rows x 8 columns]"
      ]
     },
     "execution_count": 7,
     "metadata": {},
     "output_type": "execute_result"
    }
   ],
   "source": [
    "df.isnull()"
   ]
  },
  {
   "cell_type": "code",
   "execution_count": 8,
   "id": "7b9be811-1475-4a6b-83ca-5665316e38d9",
   "metadata": {},
   "outputs": [
    {
     "data": {
      "text/plain": [
       "Roll No         1\n",
       "NationalITy     1\n",
       "WT              8\n",
       "DSBDA           4\n",
       "AI             10\n",
       "Average         1\n",
       "Grade           1\n",
       "PG              1\n",
       "dtype: int64"
      ]
     },
     "execution_count": 8,
     "metadata": {},
     "output_type": "execute_result"
    }
   ],
   "source": [
    "df.isnull().sum()"
   ]
  },
  {
   "cell_type": "code",
   "execution_count": 9,
   "id": "c2e090d8-f490-4dc3-9f1d-b6422aead030",
   "metadata": {},
   "outputs": [],
   "source": [
    "df.dropna(subset = ['Roll No'], inplace = True)"
   ]
  },
  {
   "cell_type": "code",
   "execution_count": 10,
   "id": "dc3ab1d1-e2cd-44eb-ac33-f1366bd2426f",
   "metadata": {},
   "outputs": [],
   "source": [
    "df['WT'] = df['WT'].fillna(df['WT'].mean())"
   ]
  },
  {
   "cell_type": "code",
   "execution_count": 11,
   "id": "b2e1a92b-c030-48bd-94e7-fa5d7c10a5d6",
   "metadata": {},
   "outputs": [],
   "source": [
    "df['DSBDA'] = df['DSBDA'].fillna(df['DSBDA'].mean())"
   ]
  },
  {
   "cell_type": "code",
   "execution_count": 12,
   "id": "2c326731-1a7e-426d-be89-80142d358d81",
   "metadata": {},
   "outputs": [],
   "source": [
    "df['AI'] = df['AI'].fillna(df['AI'].mean())"
   ]
  },
  {
   "cell_type": "code",
   "execution_count": 13,
   "id": "6cb49a10-1af8-4f91-a288-3625d58809a1",
   "metadata": {},
   "outputs": [
    {
     "data": {
      "text/plain": [
       "Roll No        0\n",
       "NationalITy    0\n",
       "WT             0\n",
       "DSBDA          0\n",
       "AI             0\n",
       "Average        0\n",
       "Grade          0\n",
       "PG             0\n",
       "dtype: int64"
      ]
     },
     "execution_count": 13,
     "metadata": {},
     "output_type": "execute_result"
    }
   ],
   "source": [
    "df.isnull().sum()"
   ]
  },
  {
   "cell_type": "code",
   "execution_count": 14,
   "id": "1e900161-866b-42eb-9e6a-5e0ab76debec",
   "metadata": {},
   "outputs": [],
   "source": [
    "#datatypes"
   ]
  },
  {
   "cell_type": "code",
   "execution_count": 15,
   "id": "1d359d8d-9326-439d-bf40-8e3ede1569b7",
   "metadata": {},
   "outputs": [
    {
     "data": {
      "text/plain": [
       "0      1\n",
       "1      2\n",
       "3      4\n",
       "4      5\n",
       "5      6\n",
       "      ..\n",
       "94    95\n",
       "95    96\n",
       "96    97\n",
       "97    98\n",
       "98    99\n",
       "Name: Roll No, Length: 98, dtype: int64"
      ]
     },
     "execution_count": 15,
     "metadata": {},
     "output_type": "execute_result"
    }
   ],
   "source": [
    "df['Roll No'].astype(int)"
   ]
  },
  {
   "cell_type": "code",
   "execution_count": 17,
   "id": "2ac2358a-8796-4c96-bdc7-290ee3439161",
   "metadata": {},
   "outputs": [
    {
     "data": {
      "text/plain": [
       "{'whiskers': [<matplotlib.lines.Line2D at 0x7f446c2a4550>,\n",
       "  <matplotlib.lines.Line2D at 0x7f446c2a4690>],\n",
       " 'caps': [<matplotlib.lines.Line2D at 0x7f446c2a47d0>,\n",
       "  <matplotlib.lines.Line2D at 0x7f446c2a4910>],\n",
       " 'boxes': [<matplotlib.lines.Line2D at 0x7f446c2a4410>],\n",
       " 'medians': [<matplotlib.lines.Line2D at 0x7f446c2a4a50>],\n",
       " 'fliers': [<matplotlib.lines.Line2D at 0x7f446c2a4b90>],\n",
       " 'means': []}"
      ]
     },
     "execution_count": 17,
     "metadata": {},
     "output_type": "execute_result"
    },
    {
     "data": {
      "image/png": "[encoded data removed]",
      "text/plain": [
       "<Figure size 640x480 with 1 Axes>"
      ]
     },
     "metadata": {},
     "output_type": "display_data"
    }
   ],
   "source": [
    "#Plotting outliers\n",
    "plt.boxplot(df['AI'])\n"
   ]
  },
  {
   "cell_type": "code",
   "execution_count": 18,
   "id": "8732780f-9671-4016-a277-b875cd68b644",
   "metadata": {},
   "outputs": [
    {
     "data": {
      "text/plain": [
       "(np.float64(24.0), np.float64(104.0))"
      ]
     },
     "execution_count": 18,
     "metadata": {},
     "output_type": "execute_result"
    }
   ],
   "source": [
    "#Using IQR For outliers\n",
    "\n",
    "Q1 = df['AI'].quantile(0.25)\n",
    "Q3 = df['AI'].quantile(0.75)\n",
    "IQR = Q3 - Q1\n",
    "lower = Q1 - 1.5 * IQR\n",
    "upper = Q3 + 1.5 * IQR\n",
    "lower, upper"
   ]
  },
  {
   "cell_type": "code",
   "execution_count": 19,
   "id": "0b2d836d-2cad-4987-8180-f33b265e86e5",
   "metadata": {},
   "outputs": [],
   "source": [
    "df = df[~((df['AI']<lower) | (df['AI']>upper))]"
   ]
  },
  {
   "cell_type": "code",
   "execution_count": 20,
   "id": "bcca2956-50b4-4df7-aecf-d26bd12ff1b8",
   "metadata": {},
   "outputs": [
    {
     "data": {
      "text/plain": [
       "{'whiskers': [<matplotlib.lines.Line2D at 0x7f446c0f8f50>,\n",
       "  <matplotlib.lines.Line2D at 0x7f446c0f9090>],\n",
       " 'caps': [<matplotlib.lines.Line2D at 0x7f446c0f91d0>,\n",
       "  <matplotlib.lines.Line2D at 0x7f446c0f9310>],\n",
       " 'boxes': [<matplotlib.lines.Line2D at 0x7f446c0f8e10>],\n",
       " 'medians': [<matplotlib.lines.Line2D at 0x7f446c0f9450>],\n",
       " 'fliers': [<matplotlib.lines.Line2D at 0x7f446c0f9590>],\n",
       " 'means': []}"
      ]
     },
     "execution_count": 20,
     "metadata": {},
     "output_type": "execute_result"
    },
    {
     "data": {
      "image/png": "[encoded data removed]",
      "text/plain": [
       "<Figure size 640x480 with 1 Axes>"
      ]
     },
     "metadata": {},
     "output_type": "display_data"
    }
   ],
   "source": [
    "plt.boxplot(df['AI'])"
   ]
  },
  {
   "cell_type": "code",
   "execution_count": 21,
   "id": "47c69d8b-f36e-4b14-8f01-5cb4d9ce7b65",
   "metadata": {},
   "outputs": [],
   "source": [
    "#Outliers are dealt with."
   ]
  },
  {
   "cell_type": "code",
   "execution_count": 22,
   "id": "4d63f84e-0d94-4b5a-982f-8916655ceede",
   "metadata": {},
   "outputs": [
    {
     "data": {
      "text/plain": [
       "(np.float64(26.5), np.float64(102.5))"
      ]
     },
     "execution_count": 22,
     "metadata": {},
     "output_type": "execute_result"
    }
   ],
   "source": [
    "\n",
    "Q1 = df['DSBDA'].quantile(0.25)\n",
    "Q3 = df['DSBDA'].quantile(0.75)\n",
    "IQR = Q3 - Q1\n",
    "lower = Q1 - 1.5 * IQR\n",
    "upper = Q3 + 1.5 * IQR\n",
    "lower, upper"
   ]
  },
  {
   "cell_type": "code",
   "execution_count": 23,
   "id": "198cb0fb-c388-476c-84d9-c586a001e349",
   "metadata": {},
   "outputs": [],
   "source": [
    "df = df[~((df['DSBDA']<lower) | (df['DSBDA']>upper))]"
   ]
  },
  {
   "cell_type": "code",
   "execution_count": 24,
   "id": "4ede0f7f-ba1a-40b6-af1d-69723ff65715",
   "metadata": {},
   "outputs": [],
   "source": [
    "#SKEWNESS"
   ]
  },
  {
   "cell_type": "code",
   "execution_count": 25,
   "id": "116091e7-9939-4726-b499-cb720b2f3f9a",
   "metadata": {},
   "outputs": [
    {
     "data": {
      "text/plain": [
       "(np.float64(-0.30351349152407303), np.float64(-0.2844792098511676))"
      ]
     },
     "execution_count": 25,
     "metadata": {},
     "output_type": "execute_result"
    }
   ],
   "source": [
    "df['AI'].skew(), df['DSBDA'].skew()"
   ]
  },
  {
   "cell_type": "code",
   "execution_count": 26,
   "id": "52b955b8-63a0-4f2a-b0fe-528a01c3eed5",
   "metadata": {},
   "outputs": [
    {
     "data": {
      "text/plain": [
       "(np.float64(92.0), np.float64(63.09503745318352))"
      ]
     },
     "execution_count": 26,
     "metadata": {},
     "output_type": "execute_result"
    }
   ],
   "source": [
    "df['AI'].max(), df['AI'].mean()"
   ]
  },
  {
   "cell_type": "code",
   "execution_count": 27,
   "id": "3cbb04b7-a658-40e0-87ce-639ca025cb5a",
   "metadata": {},
   "outputs": [
    {
     "data": {
      "text/plain": [
       "(np.float64(95.0), np.float64(65.2078947368421))"
      ]
     },
     "execution_count": 27,
     "metadata": {},
     "output_type": "execute_result"
    }
   ],
   "source": [
    "df['DSBDA'].max(), df['DSBDA'].mean()"
   ]
  },
  {
   "cell_type": "code",
   "execution_count": 28,
   "id": "02c2bbee-19de-4a8b-9977-8638a16c7372",
   "metadata": {},
   "outputs": [
    {
     "data": {
      "text/plain": [
       "<matplotlib.collections.PathCollection at 0x7f446c3701a0>"
      ]
     },
     "execution_count": 28,
     "metadata": {},
     "output_type": "execute_result"
    },
    {
     "data": {
      "image/png": "[encoded data removed]",
      "text/plain": [
       "<Figure size 640x480 with 1 Axes>"
      ]
     },
     "metadata": {},
     "output_type": "display_data"
    }
   ],
   "source": [
    "plt.scatter(x=df['AI'], y=df['DSBDA'])"
   ]
  },
  {
   "cell_type": "code",
   "execution_count": 29,
   "id": "3ecb692b-5b62-4b8b-84bf-80fdd54f9e8f",
   "metadata": {},
   "outputs": [
    {
     "data": {
      "text/html": [
       "<div>\n",
       "<style scoped>\n",
       "    .dataframe tbody tr th:only-of-type {\n",
       "        vertical-align: middle;\n",
       "    }\n",
       "\n",
       "    .dataframe tbody tr th {\n",
       "        vertical-align: top;\n",
       "    }\n",
       "\n",
       "    .dataframe thead th {\n",
       "        text-align: right;\n",
       "    }\n",
       "</style>\n",
       "<table border=\"1\" class=\"dataframe\">\n",
       "  <thead>\n",
       "    <tr style=\"text-align: right;\">\n",
       "      <th></th>\n",
       "      <th>AI</th>\n",
       "      <th>DSBDA</th>\n",
       "    </tr>\n",
       "  </thead>\n",
       "  <tbody>\n",
       "    <tr>\n",
       "      <th>AI</th>\n",
       "      <td>1.000000</td>\n",
       "      <td>0.891242</td>\n",
       "    </tr>\n",
       "    <tr>\n",
       "      <th>DSBDA</th>\n",
       "      <td>0.891242</td>\n",
       "      <td>1.000000</td>\n",
       "    </tr>\n",
       "  </tbody>\n",
       "</table>\n",
       "</div>"
      ],
      "text/plain": [
       "             AI     DSBDA\n",
       "AI     1.000000  0.891242\n",
       "DSBDA  0.891242  1.000000"
      ]
     },
     "execution_count": 29,
     "metadata": {},
     "output_type": "execute_result"
    }
   ],
   "source": [
    "df[['AI','DSBDA']].corr()"
   ]
  },
  {
   "cell_type": "code",
   "execution_count": null,
   "id": "000848ec-6325-439e-88f6-38a626f1b580",
   "metadata": {},
   "outputs": [],
   "source": []
  }
 ],
 "metadata": {
  "kernelspec": {
   "display_name": "Python 3 (ipykernel)",
   "language": "python",
   "name": "python3"
  },
  "language_info": {
   "codemirror_mode": {
    "name": "ipython",
    "version": 3
   },
   "file_extension": ".py",
   "mimetype": "text/x-python",
   "name": "python",
   "nbconvert_exporter": "python",
   "pygments_lexer": "ipython3",
   "version": "3.13.3"
  }
 },
 "nbformat": 4,
 "nbformat_minor": 5
}
